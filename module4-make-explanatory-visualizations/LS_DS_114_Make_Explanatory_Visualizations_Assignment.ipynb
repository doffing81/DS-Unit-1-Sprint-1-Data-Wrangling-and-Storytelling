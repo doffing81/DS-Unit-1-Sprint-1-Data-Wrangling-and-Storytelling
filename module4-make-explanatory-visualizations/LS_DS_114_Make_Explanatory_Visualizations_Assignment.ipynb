{
  "nbformat": 4,
  "nbformat_minor": 0,
  "metadata": {
    "colab": {
      "name": "LS_DS_114_Make_Explanatory_Visualizations_Assignment.ipynb",
      "provenance": [],
      "collapsed_sections": []
    },
    "language_info": {
      "codemirror_mode": {
        "name": "ipython",
        "version": 3
      },
      "file_extension": ".py",
      "mimetype": "text/x-python",
      "name": "python",
      "nbconvert_exporter": "python",
      "pygments_lexer": "ipython3",
      "version": "3.7.1"
    },
    "kernelspec": {
      "display_name": "Python 3",
      "language": "python",
      "name": "python3"
    }
  },
  "cells": [
    {
      "cell_type": "markdown",
      "metadata": {
        "id": "-8-trVo__vRE"
      },
      "source": [
        "Lambda School Data Science\n",
        "\n",
        "*Unit 1, Sprint 1, Module 4*\n",
        "\n",
        "---\n",
        "\n",
        "# Make Explanatory Visualizations\n",
        "\n",
        "### Objectives\n",
        "\n",
        "- Student can identify the appropriate visualization type for a particular variable type and research question \n",
        "- Student can use Matplotlib to visualize distributions and relationships with continuous and discrete variables\n",
        "- Student can add emphasis and annotations to transform visualizations from exploratory to explanatory\n",
        "- Student can remove clutter from visualizations\n",
        "- Student can identify misleading visualizations and how to fix them\n",
        "\n"
      ]
    },
    {
      "cell_type": "markdown",
      "metadata": {
        "id": "8LPohEc5sv7J"
      },
      "source": [
        "Import the Titanic dataset and print the first 5 rows."
      ]
    },
    {
      "cell_type": "code",
      "metadata": {
        "id": "ihNRKzhzs7_C",
        "outputId": "5154d808-4199-42ef-f0ac-302fc0537a5f",
        "colab": {
          "base_uri": "https://localhost:8080/",
          "height": 204
        }
      },
      "source": [
        "\n",
        "import pandas as pd\n",
        "\n",
        "# Load the Titanic dataset from its URL:\n",
        "Titanic = pd.read_csv('https://raw.githubusercontent.com/LambdaSchool/data-science-practice-datasets/main/unit_1/Titanic/Titanic.csv')\n",
        "\n",
        "Titanic.head()"
      ],
      "execution_count": 1,
      "outputs": [
        {
          "output_type": "execute_result",
          "data": {
            "text/html": [
              "<div>\n",
              "<style scoped>\n",
              "    .dataframe tbody tr th:only-of-type {\n",
              "        vertical-align: middle;\n",
              "    }\n",
              "\n",
              "    .dataframe tbody tr th {\n",
              "        vertical-align: top;\n",
              "    }\n",
              "\n",
              "    .dataframe thead th {\n",
              "        text-align: right;\n",
              "    }\n",
              "</style>\n",
              "<table border=\"1\" class=\"dataframe\">\n",
              "  <thead>\n",
              "    <tr style=\"text-align: right;\">\n",
              "      <th></th>\n",
              "      <th>Survived</th>\n",
              "      <th>Pclass</th>\n",
              "      <th>Name</th>\n",
              "      <th>Sex</th>\n",
              "      <th>Age</th>\n",
              "      <th>Siblings/Spouses_Aboard</th>\n",
              "      <th>Parents/Children_Aboard</th>\n",
              "      <th>Fare</th>\n",
              "    </tr>\n",
              "  </thead>\n",
              "  <tbody>\n",
              "    <tr>\n",
              "      <th>0</th>\n",
              "      <td>0</td>\n",
              "      <td>3</td>\n",
              "      <td>Mr. Owen Harris Braund</td>\n",
              "      <td>male</td>\n",
              "      <td>22.0</td>\n",
              "      <td>1</td>\n",
              "      <td>0</td>\n",
              "      <td>7.2500</td>\n",
              "    </tr>\n",
              "    <tr>\n",
              "      <th>1</th>\n",
              "      <td>1</td>\n",
              "      <td>1</td>\n",
              "      <td>Mrs. John Bradley (Florence Briggs Thayer) Cum...</td>\n",
              "      <td>female</td>\n",
              "      <td>38.0</td>\n",
              "      <td>1</td>\n",
              "      <td>0</td>\n",
              "      <td>71.2833</td>\n",
              "    </tr>\n",
              "    <tr>\n",
              "      <th>2</th>\n",
              "      <td>1</td>\n",
              "      <td>3</td>\n",
              "      <td>Miss. Laina Heikkinen</td>\n",
              "      <td>female</td>\n",
              "      <td>26.0</td>\n",
              "      <td>0</td>\n",
              "      <td>0</td>\n",
              "      <td>7.9250</td>\n",
              "    </tr>\n",
              "    <tr>\n",
              "      <th>3</th>\n",
              "      <td>1</td>\n",
              "      <td>1</td>\n",
              "      <td>Mrs. Jacques Heath (Lily May Peel) Futrelle</td>\n",
              "      <td>female</td>\n",
              "      <td>35.0</td>\n",
              "      <td>1</td>\n",
              "      <td>0</td>\n",
              "      <td>53.1000</td>\n",
              "    </tr>\n",
              "    <tr>\n",
              "      <th>4</th>\n",
              "      <td>0</td>\n",
              "      <td>3</td>\n",
              "      <td>Mr. William Henry Allen</td>\n",
              "      <td>male</td>\n",
              "      <td>35.0</td>\n",
              "      <td>0</td>\n",
              "      <td>0</td>\n",
              "      <td>8.0500</td>\n",
              "    </tr>\n",
              "  </tbody>\n",
              "</table>\n",
              "</div>"
            ],
            "text/plain": [
              "   Survived  Pclass  ... Parents/Children_Aboard     Fare\n",
              "0         0       3  ...                       0   7.2500\n",
              "1         1       1  ...                       0  71.2833\n",
              "2         1       3  ...                       0   7.9250\n",
              "3         1       1  ...                       0  53.1000\n",
              "4         0       3  ...                       0   8.0500\n",
              "\n",
              "[5 rows x 8 columns]"
            ]
          },
          "metadata": {
            "tags": []
          },
          "execution_count": 1
        }
      ]
    },
    {
      "cell_type": "code",
      "metadata": {
        "id": "FMIVZiuf90qw",
        "outputId": "2d97c4c8-fec4-4e75-a7b2-0bf4a8444bd6",
        "colab": {
          "base_uri": "https://localhost:8080/"
        }
      },
      "source": [
        "Titanic['Fare'].describe()"
      ],
      "execution_count": 89,
      "outputs": [
        {
          "output_type": "execute_result",
          "data": {
            "text/plain": [
              "count    887.00000\n",
              "mean      32.30542\n",
              "std       49.78204\n",
              "min        0.00000\n",
              "25%        7.92500\n",
              "50%       14.45420\n",
              "75%       31.13750\n",
              "max      512.32920\n",
              "Name: Fare, dtype: float64"
            ]
          },
          "metadata": {
            "tags": []
          },
          "execution_count": 89
        }
      ]
    },
    {
      "cell_type": "markdown",
      "metadata": {
        "id": "R03kMCWNumQQ"
      },
      "source": [
        "###1) What are the appropriate visualizations to answer the question \"What was the typical fare paid for passage on the Titanic?\"\n",
        "\n"
      ]
    },
    {
      "cell_type": "markdown",
      "metadata": {
        "id": "zuT6F0hpVbsG"
      },
      "source": [
        "A boxplot and histogram should visualize the quantitative data, and perhaps point out significant distributions, modes, and outliers."
      ]
    },
    {
      "cell_type": "markdown",
      "metadata": {
        "id": "JnHwnp5BVe6r"
      },
      "source": [
        "###2) Create the visualizations you selected in 2).  "
      ]
    },
    {
      "cell_type": "code",
      "metadata": {
        "id": "4H948LYYwa0p",
        "outputId": "ec4c5418-9d3c-433f-ca44-8cf7ca85f844",
        "colab": {
          "base_uri": "https://localhost:8080/",
          "height": 573
        }
      },
      "source": [
        "import matplotlib.pyplot as plt\n",
        "\n",
        "plt.boxplot(Titanic['Fare'], vert=False)\n",
        "\n",
        "plt.title(r'Distribution of the Fare Paid on the Titanic')\n",
        "plt.xlabel('Fare Paid Amount')\n",
        "\n",
        "plt.show()\n",
        "\n",
        "plt.hist(Titanic['Fare'])\n",
        "\n",
        "plt.title(r'Distribution of the Fare Paid on the Titanic')\n",
        "plt.ylabel('Frequency')\n",
        "plt.xlabel('Fare Paid Amount')\n",
        "\n",
        "plt.show()"
      ],
      "execution_count": 6,
      "outputs": [
        {
          "output_type": "display_data",
          "data": {
            "image/png": "[encoded data removed]",
            "text/plain": [
              "<Figure size 432x288 with 1 Axes>"
            ]
          },
          "metadata": {
            "tags": [],
            "needs_background": "light"
          }
        },
        {
          "output_type": "display_data",
          "data": {
            "image/png": "[encoded data removed]",
            "text/plain": [
              "<Figure size 432x288 with 1 Axes>"
            ]
          },
          "metadata": {
            "tags": [],
            "needs_background": "light"
          }
        }
      ]
    },
    {
      "cell_type": "markdown",
      "metadata": {
        "id": "1M4_OYgp00pA"
      },
      "source": [
        "###3) Describe your results in a sentence or two."
      ]
    },
    {
      "cell_type": "markdown",
      "metadata": {
        "id": "bXtZ3QkIWAGQ"
      },
      "source": [
        "From these two plots we can see that most passengers paid a fare of less than 100, yet the outliers and long tail seem to indicate that a significant relationship to another factor may exist."
      ]
    },
    {
      "cell_type": "markdown",
      "metadata": {
        "id": "59jSon6C1MG2"
      },
      "source": [
        "###4) Plot a histogram of fare paid by Titanic passengers by sex to see if there was a difference in fare paid between male and female passengers.  "
      ]
    },
    {
      "cell_type": "code",
      "metadata": {
        "id": "6mvEpMhU3Rcl",
        "outputId": "a258ac34-2fb0-4588-9b43-d03547f235e3",
        "colab": {
          "base_uri": "https://localhost:8080/",
          "height": 295
        }
      },
      "source": [
        "Titanic_Male = Titanic[Titanic['Sex'] == 'male']\n",
        "Titanic_Female = Titanic[Titanic['Sex'] == 'female']\n",
        "\n",
        "plt.hist(Titanic_Male['Fare'], label='Male Passengers')\n",
        "plt.hist(Titanic_Female['Fare'], label = 'Female Passengers')\n",
        "\n",
        "plt.title(r'Distribution of the Fare Paid on the Titanic by Sex')\n",
        "plt.ylabel('Frequency')\n",
        "plt.xlabel('Fare Paid Amount')\n",
        "plt.legend(loc='upper right')\n",
        "\n",
        "plt.show()"
      ],
      "execution_count": 88,
      "outputs": [
        {
          "output_type": "display_data",
          "data": {
            "image/png": "[encoded data removed]",
            "text/plain": [
              "<Figure size 432x288 with 1 Axes>"
            ]
          },
          "metadata": {
            "tags": [],
            "needs_background": "light"
          }
        }
      ]
    },
    {
      "cell_type": "markdown",
      "metadata": {
        "id": "dpVOCB7HWmae"
      },
      "source": [
        "###5) Describe the difference in distribution of fare paid between male and female passengers."
      ]
    },
    {
      "cell_type": "markdown",
      "metadata": {
        "id": "UnB3VZxo4uHT"
      },
      "source": [
        "This doesn't seem to indicate any significant difference in fare paid between men and women other than perhaps that there were more men."
      ]
    },
    {
      "cell_type": "markdown",
      "metadata": {
        "id": "GAKb2bwr5I6l"
      },
      "source": [
        "###6) Make a bar plot to show the frequency of individuals in each passenger class."
      ]
    },
    {
      "cell_type": "code",
      "metadata": {
        "id": "R3xU-DCK5PRj",
        "outputId": "3f3090f0-245e-43ab-8ba3-b58f4abcbc69",
        "colab": {
          "base_uri": "https://localhost:8080/",
          "height": 295
        }
      },
      "source": [
        "Titanic['Pclass'].value_counts().plot.bar(rot=1)\n",
        "\n",
        "plt.xlabel('Pclass')\n",
        "plt.ylabel('Frequency')\n",
        "plt.title(r'Titanic Passenger Class')\n",
        "\n",
        "plt.show()\n"
      ],
      "execution_count": 83,
      "outputs": [
        {
          "output_type": "display_data",
          "data": {
            "image/png": "[encoded data removed]",
            "text/plain": [
              "<Figure size 432x288 with 1 Axes>"
            ]
          },
          "metadata": {
            "tags": [],
            "needs_background": "light"
          }
        }
      ]
    },
    {
      "cell_type": "markdown",
      "metadata": {
        "id": "MbSsjvfTXTPz"
      },
      "source": [
        "###7) Summarize your results from 6)"
      ]
    },
    {
      "cell_type": "markdown",
      "metadata": {
        "id": "wNVCsFFtXZhI"
      },
      "source": [
        "This visualization points out that there were three different classes of passenger, and that most belonged to class \"3\"."
      ]
    },
    {
      "cell_type": "markdown",
      "metadata": {
        "id": "zl0yUdzWXgUz"
      },
      "source": [
        "###8) Create a graphical summary for the number of parents/ children on board for each passenger."
      ]
    },
    {
      "cell_type": "code",
      "metadata": {
        "id": "K18MnbPUX4gV",
        "outputId": "a3d9d0c2-8d13-44ce-8764-51cbe8e1fe64",
        "colab": {
          "base_uri": "https://localhost:8080/",
          "height": 295
        }
      },
      "source": [
        "plt.hist(Titanic['Parents/Children_Aboard'])\n",
        "\n",
        "plt.title(r'Distribution of the Fare Paid on the Titanic')\n",
        "plt.ylabel('Frequency')\n",
        "plt.xlabel('Fare Paid Amount')\n",
        "\n",
        "plt.show()"
      ],
      "execution_count": 84,
      "outputs": [
        {
          "output_type": "display_data",
          "data": {
            "image/png": "[encoded data removed]",
            "text/plain": [
              "<Figure size 432x288 with 1 Axes>"
            ]
          },
          "metadata": {
            "tags": [],
            "needs_background": "light"
          }
        }
      ]
    },
    {
      "cell_type": "markdown",
      "metadata": {
        "id": "jxo8trtyYL2I"
      },
      "source": [
        "###9) Summarize your results from 8).  Did most individuals travel alone or with family?"
      ]
    },
    {
      "cell_type": "markdown",
      "metadata": {
        "id": "10pB7v8wYVit"
      },
      "source": [
        "From this it looks as though a majority of passengers were not traveling as a family."
      ]
    },
    {
      "cell_type": "markdown",
      "metadata": {
        "id": "lpaeN9_-1ul6"
      },
      "source": [
        "###In 10) - 14)  We will use figure, axes syntax to plot passenger survival by whether the passenger was a child or an adult. "
      ]
    },
    {
      "cell_type": "markdown",
      "metadata": {
        "id": "KC4hmwGNZBo5"
      },
      "source": [
        "###10) Create a variable to categorize the passenger as a child (under age 18) or adult (18 years or older)."
      ]
    },
    {
      "cell_type": "code",
      "metadata": {
        "id": "Vnmr1IXRZg9V"
      },
      "source": [
        "Titanic.loc[Titanic['Age'] >= 18, 'Is_Adult'] = 1\n",
        "Titanic.loc[Titanic['Age'] < 18, 'Is_Adult'] = 0"
      ],
      "execution_count": 47,
      "outputs": []
    },
    {
      "cell_type": "markdown",
      "metadata": {
        "id": "xO_MMk8gZFw9"
      },
      "source": [
        "###11) Make a cross-tab of survival by age (child vs adult)."
      ]
    },
    {
      "cell_type": "code",
      "metadata": {
        "id": "zzSIQuXRBwi0",
        "outputId": "5bf6d395-39ea-4136-aae4-cc3c7e13e2de",
        "colab": {
          "base_uri": "https://localhost:8080/"
        }
      },
      "source": [
        "print(pd.crosstab(Titanic['Survived'], Titanic['Is_Adult']))"
      ],
      "execution_count": 66,
      "outputs": [
        {
          "output_type": "stream",
          "text": [
            "Is_Adult  0.0  1.0\n",
            "Survived          \n",
            "0          65  480\n",
            "1          65  277\n"
          ],
          "name": "stdout"
        }
      ]
    },
    {
      "cell_type": "markdown",
      "metadata": {
        "id": "TZa_7B-5Z5cF"
      },
      "source": [
        "###12) Create a new data frame to hold the data for the figure."
      ]
    },
    {
      "cell_type": "code",
      "metadata": {
        "id": "V29aOIyI1sMa",
        "outputId": "65f93f14-4764-4376-c7e6-644f735ff34d",
        "colab": {
          "base_uri": "https://localhost:8080/",
          "height": 111
        }
      },
      "source": [
        "df = pd.DataFrame({'Adult':[480,277], 'Child': [65,65]})\n",
        "\n",
        "df.head()"
      ],
      "execution_count": 67,
      "outputs": [
        {
          "output_type": "execute_result",
          "data": {
            "text/html": [
              "<div>\n",
              "<style scoped>\n",
              "    .dataframe tbody tr th:only-of-type {\n",
              "        vertical-align: middle;\n",
              "    }\n",
              "\n",
              "    .dataframe tbody tr th {\n",
              "        vertical-align: top;\n",
              "    }\n",
              "\n",
              "    .dataframe thead th {\n",
              "        text-align: right;\n",
              "    }\n",
              "</style>\n",
              "<table border=\"1\" class=\"dataframe\">\n",
              "  <thead>\n",
              "    <tr style=\"text-align: right;\">\n",
              "      <th></th>\n",
              "      <th>Adult</th>\n",
              "      <th>Child</th>\n",
              "    </tr>\n",
              "  </thead>\n",
              "  <tbody>\n",
              "    <tr>\n",
              "      <th>0</th>\n",
              "      <td>480</td>\n",
              "      <td>65</td>\n",
              "    </tr>\n",
              "    <tr>\n",
              "      <th>1</th>\n",
              "      <td>277</td>\n",
              "      <td>65</td>\n",
              "    </tr>\n",
              "  </tbody>\n",
              "</table>\n",
              "</div>"
            ],
            "text/plain": [
              "   Adult  Child\n",
              "0    480     65\n",
              "1    277     65"
            ]
          },
          "metadata": {
            "tags": []
          },
          "execution_count": 67
        }
      ]
    },
    {
      "cell_type": "markdown",
      "metadata": {
        "id": "kY5Z0lAsaNJx"
      },
      "source": [
        "###13) Adapt the plot from the Guided Project to show the relationship between passenger age (child vs adult) and survival."
      ]
    },
    {
      "cell_type": "code",
      "metadata": {
        "id": "NUsDf2jR1xLY",
        "outputId": "68c4d25f-9841-450f-f2c2-ba0ba4edc30d",
        "colab": {
          "base_uri": "https://localhost:8080/",
          "height": 312
        }
      },
      "source": [
        "\n",
        "\n",
        "fig, ax = plt.subplots()\n",
        "\n",
        "fig.set_facecolor('yellow')\n",
        "\n",
        "my_xticks = ['Did not survive', 'Survived']\n",
        "\n",
        "ax.plot(my_xticks, df['Child'], label='Child')\n",
        "ax.plot(my_xticks, df['Adult'], label='Adult')\n",
        "\n",
        "# A different way...\n",
        "# survival_by_child_adult = pd.crosstab(Titanic['Survived'], Titanic['Is_Adult'])\n",
        "# ax.plot(my_xticks, survival_by_child_adult[0], label='Child')\n",
        "# ax.plot(my_xticks, survival_by_child_adult[1], label='Adult')\n",
        "\n",
        "ax.set_facecolor('lightblue')\n",
        "\n",
        "ax.set_title('Passenger Survival by Child or Adult')\n",
        "ax.set_xlabel('Passenger Survival')\n",
        "ax.set_ylabel('Number of Passengers')\n",
        "\n",
        "ax.legend()\n",
        "\n",
        "ax.plot()"
      ],
      "execution_count": 70,
      "outputs": [
        {
          "output_type": "execute_result",
          "data": {
            "text/plain": [
              "[]"
            ]
          },
          "metadata": {
            "tags": []
          },
          "execution_count": 70
        },
        {
          "output_type": "display_data",
          "data": {
            "image/png": "[encoded data removed]",
            "text/plain": [
              "<Figure size 432x288 with 1 Axes>"
            ]
          },
          "metadata": {
            "tags": []
          }
        }
      ]
    },
    {
      "cell_type": "markdown",
      "metadata": {
        "id": "21YsjFAaRQOr"
      },
      "source": [
        "###14) Summarize your results about passenger survival by age."
      ]
    },
    {
      "cell_type": "markdown",
      "metadata": {
        "id": "LDCwF1KLbLDI"
      },
      "source": [
        "This plot indicates that children had a better survival rate than adults by showing that more adults did not survive than did survive, and the same amount of children both survived and didn't."
      ]
    },
    {
      "cell_type": "markdown",
      "metadata": {
        "id": "gmRDTa8ucXnV"
      },
      "source": [
        "#Project Milestone\n",
        "\n",
        "Take some time to explore the links below.  Think about how we use graphics to answer research questions and how looking at visualizations can help us develop new lines of enquiry.  \n",
        "\n",
        "By the end of the weekend, you should have a pretty good idea (though it can change!) what kind of data and visualizations you'd like to include in your Portfolio Project.\n",
        "\n",
        "### Links\n",
        "\n",
        "- [How to Spot Visualization Lies](https://flowingdata.com/2017/02/09/how-to-spot-visualization-lies/)\n",
        "- [Visual Vocabulary - Vega Edition](http://ft.com/vocabulary)\n",
        "- [Choosing a Python Visualization Tool flowchart](http://pbpython.com/python-vis-flowchart.html)\n",
        "- [Searborn example gallery](http://seaborn.pydata.org/examples/index.html) & [tutorial](http://seaborn.pydata.org/tutorial.html)\n",
        "- [Strong Titles Are The Biggest Bang for Your Buck](http://stephanieevergreen.com/strong-titles/)\n",
        "- [Remove to improve (the data-ink ratio)](https://www.darkhorseanalytics.com/blog/data-looks-better-naked)\n",
        "- [How to Generate FiveThirtyEight Graphs in Python](https://www.dataquest.io/blog/making-538-plots/)"
      ]
    }
  ]
}